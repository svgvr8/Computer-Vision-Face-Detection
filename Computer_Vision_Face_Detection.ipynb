{
  "nbformat": 4,
  "nbformat_minor": 0,
  "metadata": {
    "colab": {
      "name": "Computer Vision - Face Detection.ipynb",
      "provenance": [],
      "collapsed_sections": []
    },
    "kernelspec": {
      "name": "python3",
      "display_name": "Python 3"
    }
  },
  "cells": [
    {
      "cell_type": "markdown",
      "metadata": {
        "id": "w6wj4KENhmoP"
      },
      "source": [
        "## Face Detection in OpenCV"
      ]
    },
    {
      "cell_type": "code",
      "metadata": {
        "id": "_v8gdg3hhlTE",
        "colab": {
          "base_uri": "https://localhost:8080/"
        },
        "outputId": "e68e8378-bb1e-4596-854c-82de5f3dad93"
      },
      "source": [
        "# install pnslib\n",
        "!pip install git+git://github.com/PnS2019/pnslib.git\n",
        "!wget https://pns2019.github.io/images/Lenna.png"
      ],
      "execution_count": null,
      "outputs": [
        {
          "output_type": "stream",
          "text": [
            "Collecting git+git://github.com/PnS2019/pnslib.git\n",
            "  Cloning git://github.com/PnS2019/pnslib.git to /tmp/pip-req-build-zuoy_2sj\n",
            "  Running command git clone -q git://github.com/PnS2019/pnslib.git /tmp/pip-req-build-zuoy_2sj\n",
            "Requirement already satisfied: numpy in /usr/local/lib/python3.6/dist-packages (from pnslib==0.1.0a1) (1.19.4)\n",
            "Requirement already satisfied: scipy in /usr/local/lib/python3.6/dist-packages (from pnslib==0.1.0a1) (1.4.1)\n",
            "Requirement already satisfied: future in /usr/local/lib/python3.6/dist-packages (from pnslib==0.1.0a1) (0.16.0)\n",
            "Building wheels for collected packages: pnslib\n",
            "  Building wheel for pnslib (setup.py) ... \u001b[?25l\u001b[?25hdone\n",
            "  Created wheel for pnslib: filename=pnslib-0.1.0a1-cp36-none-any.whl size=1489619 sha256=16556a5004ae0c04b54242afa29d4695337feff9e6fd444b48b9b25577165381\n",
            "  Stored in directory: /tmp/pip-ephem-wheel-cache-wod26x2k/wheels/a2/8e/a9/c62e72840009deaa723b3a113d5c3b90acac77098d16e90eca\n",
            "Successfully built pnslib\n",
            "Installing collected packages: pnslib\n",
            "Successfully installed pnslib-0.1.0a1\n",
            "--2020-12-28 05:39:55--  https://pns2019.github.io/images/Lenna.png\n",
            "Resolving pns2019.github.io (pns2019.github.io)... 185.199.109.153, 185.199.110.153, 185.199.111.153, ...\n",
            "Connecting to pns2019.github.io (pns2019.github.io)|185.199.109.153|:443... connected.\n",
            "HTTP request sent, awaiting response... 200 OK\n",
            "Length: 473831 (463K) [image/png]\n",
            "Saving to: ‘Lenna.png’\n",
            "\n",
            "Lenna.png           100%[===================>] 462.73K  --.-KB/s    in 0.03s   \n",
            "\n",
            "2020-12-28 05:39:56 (13.4 MB/s) - ‘Lenna.png’ saved [473831/473831]\n",
            "\n"
          ],
          "name": "stdout"
        }
      ]
    },
    {
      "cell_type": "code",
      "metadata": {
        "id": "cniC6QtOhyLw"
      },
      "source": [
        "import cv2\n",
        "from pnslib import utils\n",
        "import matplotlib.pyplot as plt\n",
        "\n",
        "# read image\n",
        "img = cv2.imread(\"Lenna.png\")\n",
        "\n",
        "# load face cascade and eye cascade\n",
        "face_cascade = cv2.CascadeClassifier(\n",
        "    utils.get_haarcascade_path('haarcascade_frontalface_default.xml'))\n",
        "eye_cascade = cv2.CascadeClassifier(\n",
        "    utils.get_haarcascade_path('haarcascade_eye.xml'))\n",
        "\n",
        "# search face\n",
        "gray = cv2.cvtColor(img, cv2.COLOR_BGR2GRAY)\n",
        "\n",
        "faces = face_cascade.detectMultiScale(gray, 1.3, 5)\n",
        "\n",
        "for (x, y, w, h) in faces:\n",
        "    cv2.rectangle(img, (x, y), (x+w, y+h), (255, 0, 0), 2)\n",
        "    roi_gray = gray[y:y+h, x:x+w]\n",
        "    roi_color = img[y:y+h, x:x+w]\n",
        "    eyes = eye_cascade.detectMultiScale(roi_gray)\n",
        "    for (ex, ey, ew, eh) in eyes:\n",
        "        cv2.rectangle(roi_color, (ex, ey), (ex+ew, ey+eh), (0, 255, 0), 2)\n",
        "\n",
        "\n",
        "img = cv2.cvtColor(img, cv2.COLOR_BGR2RGB)\n",
        "plt.figure()\n",
        "plt.imshow(img)\n",
        "plt.show()"
      ],
      "execution_count": null,
      "outputs": []
    }
  ]
}